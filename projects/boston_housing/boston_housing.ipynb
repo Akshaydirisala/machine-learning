{
 "cells": [
  {
   "cell_type": "code",
   "execution_count": 1,
   "metadata": {},
   "outputs": [
    {
     "name": "stderr",
     "output_type": "stream",
     "text": [
      "C:\\Users\\DELL\\Anaconda3\\lib\\site-packages\\sklearn\\cross_validation.py:44: DeprecationWarning: This module was deprecated in version 0.18 in favor of the model_selection module into which all the refactored classes and functions are moved. Also note that the interface of the new CV iterators are different from that of this module. This module will be removed in 0.20.\n",
      "  \"This module will be removed in 0.20.\", DeprecationWarning)\n",
      "C:\\Users\\DELL\\Anaconda3\\lib\\site-packages\\sklearn\\learning_curve.py:23: DeprecationWarning: This module was deprecated in version 0.18 in favor of the model_selection module into which all the functions are moved. This module will be removed in 0.20\n",
      "  DeprecationWarning)\n"
     ]
    }
   ],
   "source": [
    "import numpy as np\n",
    "import pandas as pd\n",
    "from sklearn.cross_validation import ShuffleSplit\n",
    "import visuals as vs"
   ]
  },
  {
   "cell_type": "code",
   "execution_count": 2,
   "metadata": {
    "collapsed": true
   },
   "outputs": [],
   "source": [
    "##reading data set\n",
    "boston_data=pd.read_csv('housing.csv')"
   ]
  },
  {
   "cell_type": "code",
   "execution_count": 3,
   "metadata": {},
   "outputs": [
    {
     "data": {
      "text/html": [
       "<div>\n",
       "<style>\n",
       "    .dataframe thead tr:only-child th {\n",
       "        text-align: right;\n",
       "    }\n",
       "\n",
       "    .dataframe thead th {\n",
       "        text-align: left;\n",
       "    }\n",
       "\n",
       "    .dataframe tbody tr th {\n",
       "        vertical-align: top;\n",
       "    }\n",
       "</style>\n",
       "<table border=\"1\" class=\"dataframe\">\n",
       "  <thead>\n",
       "    <tr style=\"text-align: right;\">\n",
       "      <th></th>\n",
       "      <th>RM</th>\n",
       "      <th>LSTAT</th>\n",
       "      <th>PTRATIO</th>\n",
       "      <th>MEDV</th>\n",
       "    </tr>\n",
       "  </thead>\n",
       "  <tbody>\n",
       "    <tr>\n",
       "      <th>479</th>\n",
       "      <td>5.390</td>\n",
       "      <td>21.14</td>\n",
       "      <td>19.2</td>\n",
       "      <td>413700.0</td>\n",
       "    </tr>\n",
       "    <tr>\n",
       "      <th>480</th>\n",
       "      <td>5.794</td>\n",
       "      <td>14.10</td>\n",
       "      <td>19.2</td>\n",
       "      <td>384300.0</td>\n",
       "    </tr>\n",
       "    <tr>\n",
       "      <th>481</th>\n",
       "      <td>6.019</td>\n",
       "      <td>12.92</td>\n",
       "      <td>19.2</td>\n",
       "      <td>445200.0</td>\n",
       "    </tr>\n",
       "    <tr>\n",
       "      <th>482</th>\n",
       "      <td>5.569</td>\n",
       "      <td>15.10</td>\n",
       "      <td>19.2</td>\n",
       "      <td>367500.0</td>\n",
       "    </tr>\n",
       "    <tr>\n",
       "      <th>483</th>\n",
       "      <td>6.027</td>\n",
       "      <td>14.33</td>\n",
       "      <td>19.2</td>\n",
       "      <td>352800.0</td>\n",
       "    </tr>\n",
       "    <tr>\n",
       "      <th>484</th>\n",
       "      <td>6.593</td>\n",
       "      <td>9.67</td>\n",
       "      <td>21.0</td>\n",
       "      <td>470400.0</td>\n",
       "    </tr>\n",
       "    <tr>\n",
       "      <th>485</th>\n",
       "      <td>6.120</td>\n",
       "      <td>9.08</td>\n",
       "      <td>21.0</td>\n",
       "      <td>432600.0</td>\n",
       "    </tr>\n",
       "    <tr>\n",
       "      <th>486</th>\n",
       "      <td>6.976</td>\n",
       "      <td>5.64</td>\n",
       "      <td>21.0</td>\n",
       "      <td>501900.0</td>\n",
       "    </tr>\n",
       "    <tr>\n",
       "      <th>487</th>\n",
       "      <td>6.794</td>\n",
       "      <td>6.48</td>\n",
       "      <td>21.0</td>\n",
       "      <td>462000.0</td>\n",
       "    </tr>\n",
       "    <tr>\n",
       "      <th>488</th>\n",
       "      <td>6.030</td>\n",
       "      <td>7.88</td>\n",
       "      <td>21.0</td>\n",
       "      <td>249900.0</td>\n",
       "    </tr>\n",
       "  </tbody>\n",
       "</table>\n",
       "</div>"
      ],
      "text/plain": [
       "        RM  LSTAT  PTRATIO      MEDV\n",
       "479  5.390  21.14     19.2  413700.0\n",
       "480  5.794  14.10     19.2  384300.0\n",
       "481  6.019  12.92     19.2  445200.0\n",
       "482  5.569  15.10     19.2  367500.0\n",
       "483  6.027  14.33     19.2  352800.0\n",
       "484  6.593   9.67     21.0  470400.0\n",
       "485  6.120   9.08     21.0  432600.0\n",
       "486  6.976   5.64     21.0  501900.0\n",
       "487  6.794   6.48     21.0  462000.0\n",
       "488  6.030   7.88     21.0  249900.0"
      ]
     },
     "execution_count": 3,
     "metadata": {},
     "output_type": "execute_result"
    }
   ],
   "source": [
    "###bottom ten records in boston data set\n",
    "boston_data.tail(n=10)\n",
    "#############All variable are numerical"
   ]
  },
  {
   "cell_type": "code",
   "execution_count": 4,
   "metadata": {
    "collapsed": true
   },
   "outputs": [],
   "source": [
    "####target variable is MEDV\n",
    "prices=boston_data['MEDV']"
   ]
  },
  {
   "cell_type": "code",
   "execution_count": 5,
   "metadata": {
    "collapsed": true
   },
   "outputs": [],
   "source": [
    "features=boston_data.drop('MEDV',axis=1)"
   ]
  },
  {
   "cell_type": "code",
   "execution_count": 6,
   "metadata": {},
   "outputs": [
    {
     "name": "stdout",
     "output_type": "stream",
     "text": [
      "Boston housing dataset has 489 data points with 4 variables each.\n"
     ]
    }
   ],
   "source": [
    "print(\"Boston housing dataset has {} data points with {} variables each.\".format(*boston_data.shape))"
   ]
  },
  {
   "cell_type": "code",
   "execution_count": 8,
   "metadata": {
    "collapsed": true
   },
   "outputs": [],
   "source": [
    "\n",
    "#######################statistics\n",
    "##minimum price of house in boston_data\n",
    "minimum_price=np.min(prices)\n",
    "##minimum price of house in boston_data\n",
    "maximum_price=np.max(prices)\n",
    "###mean price of house in boston_data\n",
    "mean_price=np.mean(prices)\n",
    "####median price of house in boston_data\n",
    "median_price=np.median(prices)\n",
    "###standard deviation of prices in boston_data\n",
    "std_price=np.std(prices)\n"
   ]
  },
  {
   "cell_type": "code",
   "execution_count": 9,
   "metadata": {},
   "outputs": [
    {
     "name": "stdout",
     "output_type": "stream",
     "text": [
      "Statistics for boston housing data set :\n",
      "\n",
      "minimum price:$105000.0\n",
      "maximum price:$1024800.00\n",
      "mean price :$454342.945\n",
      "median price:$438900.0000\n",
      "standard deviation price:$165171.1315\n"
     ]
    }
   ],
   "source": [
    "############DESCRIPTIVE STATISTICS\n",
    "print(\"Statistics for boston housing data set :\\n\")\n",
    "print(\"minimum price:${:.1f}\".format(minimum_price))\n",
    "print(\"maximum price:${:.2f}\".format(maximum_price))\n",
    "print(\"mean price :${:.3f}\".format(mean_price))\n",
    "print(\"median price:${:.4f}\".format(median_price))\n",
    "print(\"standard deviation price:${:.4f}\".format(std_price))"
   ]
  },
  {
   "cell_type": "code",
   "execution_count": 10,
   "metadata": {},
   "outputs": [
    {
     "name": "stdout",
     "output_type": "stream",
     "text": [
      "AS the RM number increase the MEDV value also increase because more the number of rooms  in home the cost of home also increases .They are positvely correlated\n",
      "If the LSTAT increases the MEDV value gets decreased because the percentage of homeowners in the neighborhood considered lower class (working poor they cannot afford more house prices) so that area will have low house values.The 2 variables are negatively correlated\n",
      "if ptratio increases the MEDV value gets decrease because when the ratio of students and teachers  is low ,student get more attention from their teacher so there will be good education in that area . ptratio and MEDV are negatively correlated  \n"
     ]
    }
   ],
   "source": [
    "################QUESTION1\n",
    "##FEATURE OBSERVATION\n",
    "print(\"AS the RM number increase the MEDV value also increase because more the number of rooms  in home the cost of home also increases .They are positvely correlated\")\n",
    "print(\"If the LSTAT increases the MEDV value gets decreased because the percentage of homeowners in the neighborhood considered lower class (working poor they cannot afford more house prices) so that area will have low house values.The 2 variables are negatively correlated\")\n",
    "print(\"if ptratio increases the MEDV value gets decrease because when the ratio of students and teachers  is low ,student get more attention from their teacher so there will be good education in that area . ptratio and MEDV are negatively correlated  \")"
   ]
  },
  {
   "cell_type": "code",
   "execution_count": 11,
   "metadata": {
    "collapsed": true
   },
   "outputs": [],
   "source": [
    "############Importing r2_score \n",
    "from sklearn.metrics import r2_score\n",
    "def performance_metric(y_True,y_predict):\n",
    "    score=r2_score(y_True,y_predict)\n",
    "    return score"
   ]
  },
  {
   "cell_type": "code",
   "execution_count": 12,
   "metadata": {},
   "outputs": [
    {
     "name": "stdout",
     "output_type": "stream",
     "text": [
      "Model has a coefficient of determination, R^2, of 0.923.\n"
     ]
    }
   ],
   "source": [
    "score = performance_metric([3, -0.5, 2, 7, 4.2], [2.5, 0.0, 2.1, 7.8, 5.3])\n",
    "print(\"Model has a coefficient of determination, R^2, of {:.3f}.\".format(score))"
   ]
  },
  {
   "cell_type": "code",
   "execution_count": 13,
   "metadata": {},
   "outputs": [
    {
     "name": "stdout",
     "output_type": "stream",
     "text": [
      "yes this model has successfully captured the variation of the target variable because 92.3% of varince in y_predicted is being explained or predictable by the y_True. 92.3% times we can predict the varaition in  prices of house correc with the varaible ptratio and lstat and RM in the model  )\n"
     ]
    }
   ],
   "source": [
    "###QUESTION2\n",
    "##Gooodness of Fit\n",
    "print(\"yes this model has successfully captured the variation of the target variable because 92.3% of varince in y_predicted is being explained or predictable by the y_True. 92.3% times we can predict the varaition in  prices of house correc with the varaible ptratio and lstat and RM in the model  )\")\n",
    "      "
   ]
  },
  {
   "cell_type": "code",
   "execution_count": 14,
   "metadata": {
    "collapsed": true
   },
   "outputs": [],
   "source": [
    "from sklearn.cross_validation import train_test_split"
   ]
  },
  {
   "cell_type": "code",
   "execution_count": 15,
   "metadata": {
    "collapsed": true
   },
   "outputs": [],
   "source": [
    "X_train, X_test, y_train, y_test = train_test_split(features,prices, test_size=0.20,train_size=0.80,random_state=1245)"
   ]
  },
  {
   "cell_type": "code",
   "execution_count": 16,
   "metadata": {},
   "outputs": [
    {
     "name": "stdout",
     "output_type": "stream",
     "text": [
      "Training and testing split was successful.\n"
     ]
    }
   ],
   "source": [
    "print(\"Training and testing split was successful.\")"
   ]
  },
  {
   "cell_type": "code",
   "execution_count": 17,
   "metadata": {},
   "outputs": [
    {
     "name": "stdout",
     "output_type": "stream",
     "text": [
      "Splitting of data in to training ,validation,testing sets will make us to ensure that we are not fitting a underfitted or overfitted model.intial discovery of relationships of data  can be done using training dataset and validation set  are used to check whether the discovered relationships from the training set will hold or not and the test data is used asses the strength of the predictive model built.\n"
     ]
    }
   ],
   "source": [
    "###question3\n",
    "print(\"Splitting of data in to training ,validation,testing sets will make us to ensure that we are not fitting a underfitted or overfitted model.intial discovery of relationships of data  can be done using training dataset and validation set  are used to check whether the discovered relationships from the training set will hold or not and the test data is used asses the strength of the predictive model built.\")  "
   ]
  },
  {
   "cell_type": "code",
   "execution_count": 18,
   "metadata": {},
   "outputs": [
    {
     "data": {
      "image/png": "[encoded data removed]",
      "text/plain": [
       "<matplotlib.figure.Figure at 0x136378bf160>"
      ]
     },
     "metadata": {},
     "output_type": "display_data"
    }
   ],
   "source": [
    "vs.ModelLearning(features,prices)"
   ]
  },
  {
   "cell_type": "code",
   "execution_count": 19,
   "metadata": {},
   "outputs": [
    {
     "name": "stdout",
     "output_type": "stream",
     "text": [
      "choosen model with max_depth=3\n",
      "Initially in training set when there are small number of training points the score is High because we can easily fit a model  hence that model cannot be working good on testing set . the model performance on the trainning set is decreasing and the performance on the testing data is increasing\n",
      "Max_depth 1 curve is having the potential to be the right model and also with maximum depth=1 the training error is small  and with maximum depth=10 the training error is high\n",
      "adding more points to training set may not helps us to improve model as after 400 points the curve is getting static \n"
     ]
    }
   ],
   "source": [
    "######QUESTION 4\n",
    "print(\"choosen model with max_depth=3\")\n",
    "print(\"Initially in training set when there are small number of training points the score is High because we can easily fit a model  hence that model cannot be working good on testing set . the model performance on the trainning set is decreasing and the performance on the testing data is increasing\")\n",
    "print(\"Max_depth 1 curve is having the potential to be the right model and also with maximum depth=1 the training error is small  and with maximum depth=10 the training error is high\")\n",
    "print(\"adding more points to training set may not helps us to improve model as after 400 points the curve is getting static \")"
   ]
  },
  {
   "cell_type": "code",
   "execution_count": 20,
   "metadata": {},
   "outputs": [
    {
     "data": {
      "image/png": "[encoded data removed]",
      "text/plain": [
       "<matplotlib.figure.Figure at 0x1363804c358>"
      ]
     },
     "metadata": {},
     "output_type": "display_data"
    }
   ],
   "source": [
    "vs.ModelComplexity(X_train, y_train)"
   ]
  },
  {
   "cell_type": "code",
   "execution_count": 21,
   "metadata": {},
   "outputs": [
    {
     "name": "stdout",
     "output_type": "stream",
     "text": [
      "when trained the model with maximum depth=1 the trainning error is small and also the validation score is less this may lead to situation of highbias underfitting \n"
     ]
    }
   ],
   "source": [
    "print('when trained the model with maximum depth=1 the trainning error is small and also the validation score is less this may lead to situation of highbias underfitting ' )"
   ]
  },
  {
   "cell_type": "code",
   "execution_count": 22,
   "metadata": {},
   "outputs": [
    {
     "name": "stdout",
     "output_type": "stream",
     "text": [
      "when trained the model with maximum depth=10 the trainning score is high and also the validation score is less  and both are not converging this may lead to situation of highvariance overfitting\n"
     ]
    }
   ],
   "source": [
    " print('when trained the model with maximum depth=10 the trainning score is high and also the validation score is less  and both are not converging this may lead to situation of highvariance overfitting')"
   ]
  },
  {
   "cell_type": "code",
   "execution_count": 23,
   "metadata": {},
   "outputs": [
    {
     "name": "stdout",
     "output_type": "stream",
     "text": [
      "model with maximum depth of 3 is the best model that can genaralizes the unseen data\n",
      "both validation and trainning curves are trying to converge at this pont with less scores so the maximum depth of 3 is better model\n"
     ]
    }
   ],
   "source": [
    "print('model with maximum depth of 3 is the best model that can genaralizes the unseen data')\n",
    "print('both validation and trainning curves are trying to converge at this pont with less scores so the maximum depth of 3 is better model')"
   ]
  },
  {
   "cell_type": "code",
   "execution_count": 24,
   "metadata": {
    "collapsed": true
   },
   "outputs": [],
   "source": [
    "############evaluating model performance"
   ]
  },
  {
   "cell_type": "code",
   "execution_count": 25,
   "metadata": {},
   "outputs": [
    {
     "name": "stdout",
     "output_type": "stream",
     "text": [
      "In case of multiple hyperparameters it will be hard to choose the optimized set of parameters for the model in those cases it is good to use grid searchc technique to choose the correct set of hyperparemeters of the model.Grid search all the possible hyperparameters are made into a table and pick the best cell from that table\n",
      "for example if a variable is categorical varaible-direction N,E,W,S ,to choose the right set among these we have to implement the grid search technique \n"
     ]
    }
   ],
   "source": [
    "###grid search technique\n",
    "print(\"In case of multiple hyperparameters it will be hard to choose the optimized set of parameters for the model in those cases it is good to use grid searchc technique to choose the correct set of hyperparemeters of the model.Grid search all the possible hyperparameters are made into a table and pick the best cell from that table\")\n",
    "print(\"for example if a variable is categorical varaible-direction N,E,W,S ,to choose the right set among these we have to implement the grid search technique \")"
   ]
  },
  {
   "cell_type": "code",
   "execution_count": 26,
   "metadata": {},
   "outputs": [
    {
     "name": "stdout",
     "output_type": "stream",
     "text": [
      "K fold cross validation technique is  used to make decisions about the models which we build using the training dataset .In K fold cross validation technique the data is partioned in to 'k' buckets and we will train model  k times using different bucket each time and remaining as testing sets and we average our results to get a final model \n",
      "In grid search technique we choose all the parameters without considering the testing and trainning datasets ,when optimizing the model- kfold cross validation will help the grid search technique by splitting the data in to k buckets while choosing  proper parameters for the model \n"
     ]
    }
   ],
   "source": [
    "#########QUESTION 8\n",
    "##K-FOLD CROSS VALIDATION\n",
    "print(\"K fold cross validation technique is  used to make decisions about the models which we build using the training dataset .In K fold cross validation technique the data is partioned in to 'k' buckets and we will train model  k times using different bucket each time and remaining as testing sets and we average our results to get a final model \")\n",
    "print(\"In grid search technique we choose all the parameters without considering the testing and trainning datasets ,when optimizing the model- kfold cross validation will help the grid search technique by splitting the data in to k buckets while choosing  proper parameters for the model \")"
   ]
  },
  {
   "cell_type": "code",
   "execution_count": 27,
   "metadata": {},
   "outputs": [
    {
     "name": "stderr",
     "output_type": "stream",
     "text": [
      "C:\\Users\\DELL\\Anaconda3\\lib\\site-packages\\sklearn\\grid_search.py:43: DeprecationWarning: This module was deprecated in version 0.18 in favor of the model_selection module into which all the refactored classes and functions are moved. This module will be removed in 0.20.\n",
      "  DeprecationWarning)\n"
     ]
    }
   ],
   "source": [
    "from sklearn.tree import DecisionTreeRegressor\n",
    "from sklearn.metrics import make_scorer\n",
    "from sklearn.grid_search import GridSearchCV"
   ]
  },
  {
   "cell_type": "code",
   "execution_count": 28,
   "metadata": {
    "collapsed": true
   },
   "outputs": [],
   "source": [
    "def fit_model(X,y):\n",
    "    cv_sets=ShuffleSplit(X.shape[0], test_size=0.20, random_state=0)\n",
    "    regressor=DecisionTreeRegressor()\n",
    "    params={'max_depth':(1,2,3,4,5,6,7,8,9,10)}\n",
    "    scoring_fnc=make_scorer(performance_metric)\n",
    "    grid=GridSearchCV(regressor,params,scoring_fnc,cv=cv_sets)\n",
    "    grid=grid.fit(X,y)\n",
    "    return grid.best_estimator_"
   ]
  },
  {
   "cell_type": "code",
   "execution_count": 29,
   "metadata": {
    "collapsed": true
   },
   "outputs": [],
   "source": [
    "reg = fit_model(X_train, y_train)"
   ]
  },
  {
   "cell_type": "code",
   "execution_count": 30,
   "metadata": {},
   "outputs": [
    {
     "name": "stdout",
     "output_type": "stream",
     "text": [
      "Parameter 'max_depth' is 5 for the optimal model.\n"
     ]
    }
   ],
   "source": [
    "print(\"Parameter 'max_depth' is {} for the optimal model.\".format(reg.get_params()['max_depth']))"
   ]
  },
  {
   "cell_type": "code",
   "execution_count": 31,
   "metadata": {},
   "outputs": [
    {
     "name": "stdout",
     "output_type": "stream",
     "text": [
      "Predicted selling price for Client 1's home: $413,233.33\n",
      "Predicted selling price for Client 2's home: $286,650.00\n",
      "Predicted selling price for Client 3's home: $854,700.00\n"
     ]
    }
   ],
   "source": [
    "client_data = [[5, 17, 15], # Client 1\n",
    "               [4, 32, 22], # Client 2\n",
    "               [8, 3, 12]]  # Client 3\n",
    "\n",
    "# Show predictions\n",
    "for i, price in enumerate(reg.predict(client_data)):\n",
    "    print(\"Predicted selling price for Client {}'s home: ${:,.2f}\".format(i+1, price))"
   ]
  },
  {
   "cell_type": "code",
   "execution_count": 32,
   "metadata": {},
   "outputs": [
    {
     "name": "stdout",
     "output_type": "stream",
     "text": [
      "As the client 3 wants to buy a house with 8 rooms (more number of rooms) and neighbourhood poverty level as 3%(very less) and student teacher ratio as 12 which is good the house prices are going to be more than the mean which lies in the upperforth quantile of data hence the model is predicting the selling price of home to be $854700 more than the mean and mediaum prices  as the living conditions are good \n",
      "Client 1 needs 5 rooms in the area where neighbourhood poverty value is 17% (high)and student to teacher ratio as 15  the house price is going near to the be nearly median house prices \n",
      "clent 2 requires 4 rooms in the area where 32% of neginbourhood poverty is there and 22 student teacher ratio  which is high .So the prices of house is going to be very less and it is 286650$ which is nearly to the minimum price \n"
     ]
    }
   ],
   "source": [
    "\n",
    "print(\"As the client 3 wants to buy a house with 8 rooms (more number of rooms) and neighbourhood poverty level as 3%(very less) and student teacher ratio as 12 which is good the house prices are going to be more than the mean which lies in the upperforth quantile of data hence the model is predicting the selling price of home to be $854700 more than the mean and mediaum prices  as the living conditions are good \")\n",
    "print(\"Client 1 needs 5 rooms in the area where neighbourhood poverty value is 17% (high)and student to teacher ratio as 15  the house price is going near to the be nearly median house prices \")\n",
    "print(\"clent 2 requires 4 rooms in the area where 32% of neginbourhood poverty is there and 22 student teacher ratio  which is high .So the prices of house is going to be very less and it is 286650$ which is nearly to the minimum price \")\n"
   ]
  },
  {
   "cell_type": "code",
   "execution_count": 33,
   "metadata": {},
   "outputs": [
    {
     "name": "stdout",
     "output_type": "stream",
     "text": [
      "optimal model has a  maximum depth of 5 and i gussed max depth 3 is going to be the right model from the learning curves .but i think if we increase the max_depth to 5 we might be in situation of overfitting the data as after 5 the both curves training and testing are converging and training curve is going towards score 1  \n"
     ]
    }
   ],
   "source": [
    "print(\"optimal model has a  maximum depth of 5 and i gussed max depth 3 is going to be the right model from the learning curves .but i think if we increase the max_depth to 5 we might be in situation of overfitting the data as after 5 the both curves training and testing are converging and training curve is going towards score 1  \")\n"
   ]
  },
  {
   "cell_type": "code",
   "execution_count": 34,
   "metadata": {},
   "outputs": [
    {
     "name": "stdout",
     "output_type": "stream",
     "text": [
      "Trial 1: $391,183.33\n",
      "Trial 2: $419,700.00\n",
      "Trial 3: $415,800.00\n",
      "Trial 4: $420,622.22\n",
      "Trial 5: $418,377.27\n",
      "Trial 6: $411,931.58\n",
      "Trial 7: $399,663.16\n",
      "Trial 8: $407,232.00\n",
      "Trial 9: $351,577.61\n",
      "Trial 10: $413,700.00\n",
      "\n",
      "Range in prices: $69,044.61\n"
     ]
    }
   ],
   "source": [
    "vs.PredictTrials(features, prices, fit_model, client_data)"
   ]
  },
  {
   "cell_type": "code",
   "execution_count": 35,
   "metadata": {},
   "outputs": [
    {
     "name": "stdout",
     "output_type": "stream",
     "text": [
      "The model we have built is on 1978 years data ,since 1978 the characteristicss of variables lstat and ptratio might have got changed due to the improvement of human lifes so based on 1978 data we cannot predict the prices of today\n",
      "Having more characteristics of home always helps us to make good predictions when the right variables-which effect the prices of home are considered in the model prediction \n"
     ]
    }
   ],
   "source": [
    "###QUESTION 11 APPLICABILITY\n",
    "print(\"The model we have built is on 1978 years data ,since 1978 the characteristicss of variables lstat and ptratio might have got changed due to the improvement of human lifes so based on 1978 data we cannot predict the prices of today\")\n",
    "print(\"Having more characteristics of home always helps us to make good predictions when the right variables-which effect the prices of home are considered in the model prediction \")\n"
   ]
  },
  {
   "cell_type": "code",
   "execution_count": 36,
   "metadata": {},
   "outputs": [
    {
     "name": "stdout",
     "output_type": "stream",
     "text": [
      "The model is consistent enough in making consistent prices for houses with a range of $69720 in the prices.\n",
      "No the model build on data collected from urban areas cannot be used to build model for predicting the prices in the rural areas because the conditions like the the household taxes ,neighbourhood conditions and sq feet area differ from urban to rural areas\n",
      "Its not fair to determine the house prices just based on the characteristics neighbourhood though it might be a important variable in deciding the price of variable we cannot rely on it has to be joined by some other factors in determinning the house prices\n"
     ]
    }
   ],
   "source": [
    "\n",
    "print(\"The model is consistent enough in making consistent prices for houses with a range of $69720 in the prices.\")\n",
    "print(\"No the model build on data collected from urban areas cannot be used to build model for predicting the prices in the rural areas because the conditions like the the household taxes ,neighbourhood conditions and sq feet area differ from urban to rural areas\")\n",
    "print(\"Its not fair to determine the house prices just based on the characteristics neighbourhood though it might be a important variable in deciding the price of variable we cannot rely on it has to be joined by some other factors in determinning the house prices\")"
   ]
  }
 ],
 "metadata": {
  "kernelspec": {
   "display_name": "Python 3",
   "language": "python",
   "name": "python3"
  },
  "language_info": {
   "codemirror_mode": {
    "name": "ipython",
    "version": 3
   },
   "file_extension": ".py",
   "mimetype": "text/x-python",
   "name": "python",
   "nbconvert_exporter": "python",
   "pygments_lexer": "ipython3",
   "version": "3.6.1"
  }
 },
 "nbformat": 4,
 "nbformat_minor": 2
}
